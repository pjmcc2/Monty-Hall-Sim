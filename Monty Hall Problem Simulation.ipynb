{
 "cells": [
  {
   "cell_type": "code",
   "execution_count": 1,
   "id": "e5e2b0ac",
   "metadata": {},
   "outputs": [],
   "source": [
    "import numpy as np\n",
    "import matplotlib.pyplot as plt\n",
    "import pandas as pd"
   ]
  },
  {
   "cell_type": "code",
   "execution_count": 2,
   "id": "4dd4b355",
   "metadata": {},
   "outputs": [],
   "source": [
    "class Door:\n",
    "    def __init__(self,goat=False,car=False):\n",
    "        self.selected = False\n",
    "        self.goat = goat\n",
    "        self.car = car\n",
    "        \n",
    "class monty_hall_problem:\n",
    "    def __init__(self,num_doors=3):\n",
    "        self.doors = [Door() for i in range(num_doors)]\n",
    "        self.hidden_doors = []\n",
    "        self.randomize()\n",
    "        \n",
    "    def randomize(self):  # Refreshes and randomizes all data\n",
    "        self.hidden_doors = []\n",
    "        for d in self.doors:\n",
    "            d.car=False\n",
    "            d.goat = False\n",
    "            d.selected = False\n",
    "            self.hidden_doors.append(d)\n",
    "        np.random.choice(self.doors).car = True\n",
    "        for d in self.doors:\n",
    "            if d.car:\n",
    "                continue\n",
    "            else:\n",
    "                d.goat = True\n",
    "                \n",
    "    def select(self,door):  # Sets given door as selected\n",
    "        self.doors[door].selected = True\n",
    "        return self.doors[door]\n",
    "        \n",
    "    def reveal_goats(self): # removes all but one door other than the selected door. \n",
    "        goats = [g for g in self.hidden_doors if g.goat]\n",
    "        reserve_goat = np.random.choice(goats)\n",
    "        self.hidden_doors[:] = [door for door in self.hidden_doors if not self.determine_if_goat(door)]\n",
    "        if len(self.hidden_doors) != 2:\n",
    "            self.hidden_doors.append(reserve_goat)\n",
    "        \n",
    "    def determine_if_goat(self,door): # used in above function\n",
    "        if door.car or door.selected:\n",
    "            return False\n",
    "        else:\n",
    "            return True\n",
    "            \n",
    "    def swap(self):  # Swaps the selected status between last remaining hidden doors.\n",
    "        for d in self.hidden_doors:\n",
    "            if d.selected:\n",
    "                d.selected = False\n",
    "            else:\n",
    "                d.selected = True\n",
    "        for door in self.hidden_doors:\n",
    "            if door.selected:\n",
    "                return door\n"
   ]
  },
  {
   "cell_type": "code",
   "execution_count": 3,
   "id": "94542e04",
   "metadata": {},
   "outputs": [],
   "source": [
    "monty = monty_hall_problem()"
   ]
  },
  {
   "cell_type": "code",
   "execution_count": 4,
   "id": "8df97d03",
   "metadata": {},
   "outputs": [
    {
     "data": {
      "text/plain": [
       "dict_items([('Door 1', 323), ('Door 2', 349), ('Door 3', 328)])"
      ]
     },
     "metadata": {},
     "output_type": "display_data"
    },
    {
     "data": {
      "image/png": "[encoded data removed]",
      "text/plain": [
       "<Figure size 432x288 with 1 Axes>"
      ]
     },
     "metadata": {
      "needs_background": "light"
     },
     "output_type": "display_data"
    }
   ],
   "source": [
    "values_dict = {\"Door 1\": 0,\n",
    "               \"Door 2\": 0,\n",
    "               \"Door 3\": 0}\n",
    "for i in range(1000):\n",
    "    monty.randomize()\n",
    "    if monty.doors[0].car:\n",
    "        values_dict[\"Door 1\"] += 1\n",
    "    if monty.doors[1].car:\n",
    "        values_dict[\"Door 2\"] += 1\n",
    "    if monty.doors[2].car:\n",
    "        values_dict[\"Door 3\"] += 1\n",
    "plt.bar(values_dict.keys(),values_dict.values())\n",
    "plt.ylim(0,1000)\n",
    "plt.ylabel('Frequency')\n",
    "plt.title(\"How Often a Car Appears Behind Any Given Door\")\n",
    "display(values_dict.items())"
   ]
  },
  {
   "cell_type": "code",
   "execution_count": 5,
   "id": "06d2a256",
   "metadata": {},
   "outputs": [
    {
     "data": {
      "text/plain": [
       "dict_items([('car', 334), ('goat', 666)])"
      ]
     },
     "metadata": {},
     "output_type": "display_data"
    },
    {
     "data": {
      "image/png": "[encoded data removed]",
      "text/plain": [
       "<Figure size 432x288 with 1 Axes>"
      ]
     },
     "metadata": {
      "needs_background": "light"
     },
     "output_type": "display_data"
    }
   ],
   "source": [
    "results_dict = {'car':0,\n",
    "                'goat':0}\n",
    "for i in range(1000):\n",
    "    monty.randomize()\n",
    "    chosen_door = monty.select(0)\n",
    "    monty.reveal_goats()\n",
    "    if chosen_door.car:\n",
    "        results_dict['car'] += 1\n",
    "    else:\n",
    "        results_dict['goat'] += 1\n",
    "plt.bar(results_dict.keys(),results_dict.values())\n",
    "plt.ylim(0,1000)\n",
    "plt.ylabel('Frequency')\n",
    "plt.title(\"How Often You Win Without Swapping\")\n",
    "display(results_dict.items())"
   ]
  },
  {
   "cell_type": "code",
   "execution_count": 7,
   "id": "0747aa28",
   "metadata": {},
   "outputs": [
    {
     "data": {
      "text/plain": [
       "dict_items([('car', 669), ('goat', 331)])"
      ]
     },
     "metadata": {},
     "output_type": "display_data"
    },
    {
     "data": {
      "image/png": "[encoded data removed]",
      "text/plain": [
       "<Figure size 432x288 with 1 Axes>"
      ]
     },
     "metadata": {
      "needs_background": "light"
     },
     "output_type": "display_data"
    }
   ],
   "source": [
    "results_dict = {'car':0,\n",
    "                'goat':0}\n",
    "for i in range(1000):\n",
    "    monty.randomize()\n",
    "    chosen_door = monty.select(0)\n",
    "    monty.reveal_goats()\n",
    "    chosen_door = monty.swap()\n",
    "    if chosen_door.car:\n",
    "        results_dict['car'] += 1\n",
    "    else:\n",
    "        results_dict['goat'] += 1\n",
    "plt.bar(results_dict.keys(),results_dict.values())\n",
    "plt.ylim(0,1000)\n",
    "plt.ylabel('Frequency')\n",
    "plt.title(\"How Often You Win With Swapping\")\n",
    "display(results_dict.items())"
   ]
  },
  {
   "cell_type": "code",
   "execution_count": 9,
   "id": "7551a0ba",
   "metadata": {},
   "outputs": [
    {
     "data": {
      "text/plain": [
       "dict_items([('car', 8), ('goat', 992)])"
      ]
     },
     "metadata": {},
     "output_type": "display_data"
    },
    {
     "data": {
      "image/png": "[encoded data removed]",
      "text/plain": [
       "<Figure size 432x288 with 1 Axes>"
      ]
     },
     "metadata": {
      "needs_background": "light"
     },
     "output_type": "display_data"
    }
   ],
   "source": [
    "monty_100 = monty_hall_problem(100)\n",
    "results_dict = {'car':0,\n",
    "                'goat':0}\n",
    "for i in range(1000):\n",
    "    monty_100.randomize()\n",
    "    chosen_door = monty_100.select(42)\n",
    "    monty_100.reveal_goats()\n",
    "    if chosen_door.car:\n",
    "        results_dict['car'] += 1\n",
    "    else:\n",
    "        results_dict['goat'] += 1\n",
    "plt.bar(results_dict.keys(),results_dict.values())\n",
    "plt.ylim(0,1000)\n",
    "plt.ylabel('Frequency')\n",
    "plt.title(\"How Often You Win Without Swapping\")\n",
    "display(results_dict.items())"
   ]
  },
  {
   "cell_type": "code",
   "execution_count": 11,
   "id": "834ef2d2",
   "metadata": {},
   "outputs": [
    {
     "data": {
      "text/plain": [
       "dict_items([('car', 987), ('goat', 13)])"
      ]
     },
     "metadata": {},
     "output_type": "display_data"
    },
    {
     "data": {
      "image/png": "[encoded data removed]",
      "text/plain": [
       "<Figure size 432x288 with 1 Axes>"
      ]
     },
     "metadata": {
      "needs_background": "light"
     },
     "output_type": "display_data"
    }
   ],
   "source": [
    "results_dict = {'car':0,\n",
    "                'goat':0}\n",
    "for i in range(1000):\n",
    "    monty_100.randomize()\n",
    "    chosen_door = monty_100.select(42)\n",
    "    monty_100.reveal_goats()\n",
    "    chosen_door = monty_100.swap()\n",
    "    if chosen_door.car:\n",
    "        results_dict['car'] += 1\n",
    "    else:\n",
    "        results_dict['goat'] += 1\n",
    "plt.bar(results_dict.keys(),results_dict.values())\n",
    "plt.ylim(0,1000)\n",
    "plt.ylabel('Frequency')\n",
    "plt.title(\"How Often You Win With Swapping\")\n",
    "display(results_dict.items())"
   ]
  }
 ],
 "metadata": {
  "kernelspec": {
   "display_name": "Python 3 (ipykernel)",
   "language": "python",
   "name": "python3"
  },
  "language_info": {
   "codemirror_mode": {
    "name": "ipython",
    "version": 3
   },
   "file_extension": ".py",
   "mimetype": "text/x-python",
   "name": "python",
   "nbconvert_exporter": "python",
   "pygments_lexer": "ipython3",
   "version": "3.9.7"
  }
 },
 "nbformat": 4,
 "nbformat_minor": 5
}
