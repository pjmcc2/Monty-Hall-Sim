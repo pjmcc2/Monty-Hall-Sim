{
 "cells": [
  {
   "cell_type": "code",
   "execution_count": 1,
   "id": "e5e2b0ac",
   "metadata": {},
   "outputs": [],
   "source": [
    "import numpy as np\n",
    "import matplotlib.pyplot as plt\n",
    "import seaborn as sns\n",
    "import pandas as pd"
   ]
  },
  {
   "cell_type": "code",
   "execution_count": 55,
   "id": "4dd4b355",
   "metadata": {},
   "outputs": [],
   "source": [
    "class Door:\n",
    "    def __init__(self,goat=False,car=False):\n",
    "        self.selected = False\n",
    "        self.goat = goat\n",
    "        self.car = car\n",
    "        \n",
    "class monty_hall_problem:\n",
    "    def __init__(self):\n",
    "        self.doors = [Door(),Door(),Door()]\n",
    "        self.hidden_doors = []\n",
    "        self.randomize()\n",
    "        \n",
    "    def randomize(self):\n",
    "        self.hidden_doors = []\n",
    "        for d in self.doors:\n",
    "            d.car=False\n",
    "            d.goat = False\n",
    "            self.hidden_doors.append(d)\n",
    "        np.random.choice(self.doors).car = True\n",
    "        for d in self.doors:\n",
    "            if d.car:\n",
    "                continue\n",
    "            else:\n",
    "                d.goat = True\n",
    "                \n",
    "    def select(self,door):\n",
    "        self.doors[door].selected = True\n",
    "        return self.doors[door]\n",
    "        \n",
    "    def reveal(self):\n",
    "        goats = [door for door in self.doors if (not door.selected and door.goat)]\n",
    "        chosen = np.random.choice(goats)\n",
    "        self.hidden_doors.remove(chosen)\n",
    "        return chosen\n",
    "    \n",
    "    def swap(self):\n",
    "        try:\n",
    "            if len(self.hidden_doors) == 2:\n",
    "                for d in self.hidden_doors:\n",
    "                    if d.selected:\n",
    "                        d.selected = False\n",
    "                    else:\n",
    "                        d.selected = True\n",
    "                        return d\n",
    "        except:\n",
    "            print(\"Make sure to select and reveal first!\")"
   ]
  },
  {
   "cell_type": "code",
   "execution_count": 56,
   "id": "94542e04",
   "metadata": {},
   "outputs": [],
   "source": [
    "monty = monty_hall_problem()\n"
   ]
  },
  {
   "cell_type": "code",
   "execution_count": 49,
   "id": "8df97d03",
   "metadata": {},
   "outputs": [
    {
     "data": {
      "text/plain": [
       "dict_items([('Door 1', 348), ('Door 2', 343), ('Door 3', 309)])"
      ]
     },
     "metadata": {},
     "output_type": "display_data"
    },
    {
     "data": {
      "image/png": "[encoded data removed]",
      "text/plain": [
       "<Figure size 432x288 with 1 Axes>"
      ]
     },
     "metadata": {
      "needs_background": "light"
     },
     "output_type": "display_data"
    }
   ],
   "source": [
    "values_dict = {\"Door 1\": 0,\n",
    "               \"Door 2\": 0,\n",
    "               \"Door 3\": 0}\n",
    "for i in range(1000):\n",
    "    monty.randomize()\n",
    "    if monty.doors[0].car:\n",
    "        values_dict[\"Door 1\"] += 1\n",
    "    if monty.doors[1].car:\n",
    "        values_dict[\"Door 2\"] += 1\n",
    "    if monty.doors[2].car:\n",
    "        values_dict[\"Door 3\"] += 1\n",
    "plt.bar(values_dict.keys(),values_dict.values())\n",
    "plt.ylim(0,1000)\n",
    "plt.ylabel('Frequency')\n",
    "plt.title(\"How Often a Car Appears Behind Any Given Door\")\n",
    "display(values_dict.items())"
   ]
  },
  {
   "cell_type": "code",
   "execution_count": 59,
   "id": "06d2a256",
   "metadata": {},
   "outputs": [
    {
     "ename": "ValueError",
     "evalue": "'a' cannot be empty unless no samples are taken",
     "output_type": "error",
     "traceback": [
      "\u001b[1;31m---------------------------------------------------------------------------\u001b[0m",
      "\u001b[1;31mValueError\u001b[0m                                Traceback (most recent call last)",
      "\u001b[1;32m~\\AppData\\Local\\Temp/ipykernel_21076/647104767.py\u001b[0m in \u001b[0;36m<module>\u001b[1;34m\u001b[0m\n\u001b[0;32m      4\u001b[0m     \u001b[0mmonty\u001b[0m\u001b[1;33m.\u001b[0m\u001b[0mrandomize\u001b[0m\u001b[1;33m(\u001b[0m\u001b[1;33m)\u001b[0m\u001b[1;33m\u001b[0m\u001b[1;33m\u001b[0m\u001b[0m\n\u001b[0;32m      5\u001b[0m     \u001b[0mchosen_door\u001b[0m \u001b[1;33m=\u001b[0m \u001b[0mmonty\u001b[0m\u001b[1;33m.\u001b[0m\u001b[0mselect\u001b[0m\u001b[1;33m(\u001b[0m\u001b[1;36m0\u001b[0m\u001b[1;33m)\u001b[0m\u001b[1;33m\u001b[0m\u001b[1;33m\u001b[0m\u001b[0m\n\u001b[1;32m----> 6\u001b[1;33m     \u001b[0mmonty\u001b[0m\u001b[1;33m.\u001b[0m\u001b[0mreveal\u001b[0m\u001b[1;33m(\u001b[0m\u001b[1;33m)\u001b[0m\u001b[1;33m\u001b[0m\u001b[1;33m\u001b[0m\u001b[0m\n\u001b[0m\u001b[0;32m      7\u001b[0m     \u001b[1;32mif\u001b[0m \u001b[0mchosen_door\u001b[0m\u001b[1;33m.\u001b[0m\u001b[0mcar\u001b[0m\u001b[1;33m:\u001b[0m\u001b[1;33m\u001b[0m\u001b[1;33m\u001b[0m\u001b[0m\n\u001b[0;32m      8\u001b[0m         \u001b[0mresults_dict\u001b[0m\u001b[1;33m[\u001b[0m\u001b[1;34m'car'\u001b[0m\u001b[1;33m]\u001b[0m \u001b[1;33m+=\u001b[0m \u001b[1;36m1\u001b[0m\u001b[1;33m\u001b[0m\u001b[1;33m\u001b[0m\u001b[0m\n",
      "\u001b[1;32m~\\AppData\\Local\\Temp/ipykernel_21076/3216342810.py\u001b[0m in \u001b[0;36mreveal\u001b[1;34m(self)\u001b[0m\n\u001b[0;32m     30\u001b[0m     \u001b[1;32mdef\u001b[0m \u001b[0mreveal\u001b[0m\u001b[1;33m(\u001b[0m\u001b[0mself\u001b[0m\u001b[1;33m)\u001b[0m\u001b[1;33m:\u001b[0m\u001b[1;33m\u001b[0m\u001b[1;33m\u001b[0m\u001b[0m\n\u001b[0;32m     31\u001b[0m         \u001b[0mgoats\u001b[0m \u001b[1;33m=\u001b[0m \u001b[1;33m[\u001b[0m\u001b[0mdoor\u001b[0m \u001b[1;32mfor\u001b[0m \u001b[0mdoor\u001b[0m \u001b[1;32min\u001b[0m \u001b[0mself\u001b[0m\u001b[1;33m.\u001b[0m\u001b[0mdoors\u001b[0m \u001b[1;32mif\u001b[0m \u001b[1;33m(\u001b[0m\u001b[1;32mnot\u001b[0m \u001b[0mdoor\u001b[0m\u001b[1;33m.\u001b[0m\u001b[0mselected\u001b[0m \u001b[1;32mand\u001b[0m \u001b[0mdoor\u001b[0m\u001b[1;33m.\u001b[0m\u001b[0mgoat\u001b[0m\u001b[1;33m)\u001b[0m\u001b[1;33m]\u001b[0m\u001b[1;33m\u001b[0m\u001b[1;33m\u001b[0m\u001b[0m\n\u001b[1;32m---> 32\u001b[1;33m         \u001b[0mchosen\u001b[0m \u001b[1;33m=\u001b[0m \u001b[0mnp\u001b[0m\u001b[1;33m.\u001b[0m\u001b[0mrandom\u001b[0m\u001b[1;33m.\u001b[0m\u001b[0mchoice\u001b[0m\u001b[1;33m(\u001b[0m\u001b[0mgoats\u001b[0m\u001b[1;33m)\u001b[0m\u001b[1;33m\u001b[0m\u001b[1;33m\u001b[0m\u001b[0m\n\u001b[0m\u001b[0;32m     33\u001b[0m         \u001b[0mself\u001b[0m\u001b[1;33m.\u001b[0m\u001b[0mhidden_doors\u001b[0m\u001b[1;33m.\u001b[0m\u001b[0mremove\u001b[0m\u001b[1;33m(\u001b[0m\u001b[0mchosen\u001b[0m\u001b[1;33m)\u001b[0m\u001b[1;33m\u001b[0m\u001b[1;33m\u001b[0m\u001b[0m\n\u001b[0;32m     34\u001b[0m         \u001b[1;32mreturn\u001b[0m \u001b[0mchosen\u001b[0m\u001b[1;33m\u001b[0m\u001b[1;33m\u001b[0m\u001b[0m\n",
      "\u001b[1;32mmtrand.pyx\u001b[0m in \u001b[0;36mnumpy.random.mtrand.RandomState.choice\u001b[1;34m()\u001b[0m\n",
      "\u001b[1;31mValueError\u001b[0m: 'a' cannot be empty unless no samples are taken"
     ]
    }
   ],
   "source": [
    "results_dict = {'car':0,\n",
    "                'goat':0}\n",
    "for i in range(1000):\n",
    "    monty.randomize()\n",
    "    chosen_door = monty.select(0)\n",
    "    monty.reveal()\n",
    "    if chosen_door.car:\n",
    "        results_dict['car'] += 1\n",
    "    else:\n",
    "        results_dict['goat'] += 1\n",
    "plt.bar(results_dict.keys(),results_dict.values())\n",
    "plt.ylim(0,1000)\n",
    "plt.ylabel('Frequency')\n",
    "plt.title(\"How Often You Win Without Swapping\")\n",
    "display(results_dict.items())"
   ]
  },
  {
   "cell_type": "code",
   "execution_count": 57,
   "id": "0747aa28",
   "metadata": {},
   "outputs": [
    {
     "ename": "ValueError",
     "evalue": "'a' cannot be empty unless no samples are taken",
     "output_type": "error",
     "traceback": [
      "\u001b[1;31m---------------------------------------------------------------------------\u001b[0m",
      "\u001b[1;31mValueError\u001b[0m                                Traceback (most recent call last)",
      "\u001b[1;32m~\\AppData\\Local\\Temp/ipykernel_21076/2756418828.py\u001b[0m in \u001b[0;36m<module>\u001b[1;34m\u001b[0m\n\u001b[0;32m      4\u001b[0m     \u001b[0mmonty\u001b[0m\u001b[1;33m.\u001b[0m\u001b[0mrandomize\u001b[0m\u001b[1;33m(\u001b[0m\u001b[1;33m)\u001b[0m\u001b[1;33m\u001b[0m\u001b[1;33m\u001b[0m\u001b[0m\n\u001b[0;32m      5\u001b[0m     \u001b[0mchosen_door\u001b[0m \u001b[1;33m=\u001b[0m \u001b[0mmonty\u001b[0m\u001b[1;33m.\u001b[0m\u001b[0mselect\u001b[0m\u001b[1;33m(\u001b[0m\u001b[1;36m0\u001b[0m\u001b[1;33m)\u001b[0m\u001b[1;33m\u001b[0m\u001b[1;33m\u001b[0m\u001b[0m\n\u001b[1;32m----> 6\u001b[1;33m     \u001b[0mmonty\u001b[0m\u001b[1;33m.\u001b[0m\u001b[0mreveal\u001b[0m\u001b[1;33m(\u001b[0m\u001b[1;33m)\u001b[0m\u001b[1;33m\u001b[0m\u001b[1;33m\u001b[0m\u001b[0m\n\u001b[0m\u001b[0;32m      7\u001b[0m     \u001b[0mchosen_door\u001b[0m \u001b[1;33m=\u001b[0m \u001b[0mmonty\u001b[0m\u001b[1;33m.\u001b[0m\u001b[0mswap\u001b[0m\u001b[1;33m(\u001b[0m\u001b[1;33m)\u001b[0m\u001b[1;33m\u001b[0m\u001b[1;33m\u001b[0m\u001b[0m\n\u001b[0;32m      8\u001b[0m     \u001b[1;32mif\u001b[0m \u001b[0mchosen_door\u001b[0m\u001b[1;33m.\u001b[0m\u001b[0mcar\u001b[0m\u001b[1;33m:\u001b[0m\u001b[1;33m\u001b[0m\u001b[1;33m\u001b[0m\u001b[0m\n",
      "\u001b[1;32m~\\AppData\\Local\\Temp/ipykernel_21076/3216342810.py\u001b[0m in \u001b[0;36mreveal\u001b[1;34m(self)\u001b[0m\n\u001b[0;32m     30\u001b[0m     \u001b[1;32mdef\u001b[0m \u001b[0mreveal\u001b[0m\u001b[1;33m(\u001b[0m\u001b[0mself\u001b[0m\u001b[1;33m)\u001b[0m\u001b[1;33m:\u001b[0m\u001b[1;33m\u001b[0m\u001b[1;33m\u001b[0m\u001b[0m\n\u001b[0;32m     31\u001b[0m         \u001b[0mgoats\u001b[0m \u001b[1;33m=\u001b[0m \u001b[1;33m[\u001b[0m\u001b[0mdoor\u001b[0m \u001b[1;32mfor\u001b[0m \u001b[0mdoor\u001b[0m \u001b[1;32min\u001b[0m \u001b[0mself\u001b[0m\u001b[1;33m.\u001b[0m\u001b[0mdoors\u001b[0m \u001b[1;32mif\u001b[0m \u001b[1;33m(\u001b[0m\u001b[1;32mnot\u001b[0m \u001b[0mdoor\u001b[0m\u001b[1;33m.\u001b[0m\u001b[0mselected\u001b[0m \u001b[1;32mand\u001b[0m \u001b[0mdoor\u001b[0m\u001b[1;33m.\u001b[0m\u001b[0mgoat\u001b[0m\u001b[1;33m)\u001b[0m\u001b[1;33m]\u001b[0m\u001b[1;33m\u001b[0m\u001b[1;33m\u001b[0m\u001b[0m\n\u001b[1;32m---> 32\u001b[1;33m         \u001b[0mchosen\u001b[0m \u001b[1;33m=\u001b[0m \u001b[0mnp\u001b[0m\u001b[1;33m.\u001b[0m\u001b[0mrandom\u001b[0m\u001b[1;33m.\u001b[0m\u001b[0mchoice\u001b[0m\u001b[1;33m(\u001b[0m\u001b[0mgoats\u001b[0m\u001b[1;33m)\u001b[0m\u001b[1;33m\u001b[0m\u001b[1;33m\u001b[0m\u001b[0m\n\u001b[0m\u001b[0;32m     33\u001b[0m         \u001b[0mself\u001b[0m\u001b[1;33m.\u001b[0m\u001b[0mhidden_doors\u001b[0m\u001b[1;33m.\u001b[0m\u001b[0mremove\u001b[0m\u001b[1;33m(\u001b[0m\u001b[0mchosen\u001b[0m\u001b[1;33m)\u001b[0m\u001b[1;33m\u001b[0m\u001b[1;33m\u001b[0m\u001b[0m\n\u001b[0;32m     34\u001b[0m         \u001b[1;32mreturn\u001b[0m \u001b[0mchosen\u001b[0m\u001b[1;33m\u001b[0m\u001b[1;33m\u001b[0m\u001b[0m\n",
      "\u001b[1;32mmtrand.pyx\u001b[0m in \u001b[0;36mnumpy.random.mtrand.RandomState.choice\u001b[1;34m()\u001b[0m\n",
      "\u001b[1;31mValueError\u001b[0m: 'a' cannot be empty unless no samples are taken"
     ]
    }
   ],
   "source": [
    "results_dict = {'car':0,\n",
    "                'goat':0}\n",
    "for i in range(1000):\n",
    "    monty.randomize()\n",
    "    chosen_door = monty.select(0)\n",
    "    monty.reveal()\n",
    "    chosen_door = monty.swap()\n",
    "    if chosen_door.car:\n",
    "        results_dict['car'] += 1\n",
    "    else:\n",
    "        results_dict['goat'] += 1\n",
    "plt.bar(results_dict.keys(),results_dict.values())\n",
    "plt.ylim(0,1000)\n",
    "plt.ylabel('Frequency')\n",
    "plt.title(\"How Often You Win With Swapping\")\n",
    "display(results_dict.items())"
   ]
  },
  {
   "cell_type": "code",
   "execution_count": null,
   "id": "87f9e45c",
   "metadata": {},
   "outputs": [],
   "source": []
  }
 ],
 "metadata": {
  "kernelspec": {
   "display_name": "Python 3 (ipykernel)",
   "language": "python",
   "name": "python3"
  },
  "language_info": {
   "codemirror_mode": {
    "name": "ipython",
    "version": 3
   },
   "file_extension": ".py",
   "mimetype": "text/x-python",
   "name": "python",
   "nbconvert_exporter": "python",
   "pygments_lexer": "ipython3",
   "version": "3.9.7"
  }
 },
 "nbformat": 4,
 "nbformat_minor": 5
}
